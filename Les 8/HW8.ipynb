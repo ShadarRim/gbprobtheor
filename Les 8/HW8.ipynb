{
  "nbformat": 4,
  "nbformat_minor": 0,
  "metadata": {
    "colab": {
      "name": "HW8.ipynb",
      "provenance": []
    },
    "kernelspec": {
      "name": "python3",
      "display_name": "Python 3"
    }
  },
  "cells": [
    {
      "cell_type": "markdown",
      "metadata": {
        "id": "_GZRnHojrzAi",
        "colab_type": "text"
      },
      "source": [
        "Объясняемая переменная y зависит от двух категориальных факторов A и B, причём фактор A имеет 3 уровня, а фактор B - 4 уровня. Результаты наблюдений приведены в таблице:\n",
        "\n",
        "y = [[2.68, 3.29, 2.88, 4.45],\n",
        "     [4.12, 4.96, 5.09, 5.22],\n",
        "     [5.52, 4.50, 5.42, 5.29]]\n",
        "С помощью двухфакторного дисперсионного анализа проверьте влияние каждого из факторов на переменную y."
      ]
    },
    {
      "cell_type": "code",
      "metadata": {
        "id": "S3Nxux-WsYl0",
        "colab_type": "code",
        "colab": {}
      },
      "source": [
        "import numpy as np\n",
        "from scipy import stats"
      ],
      "execution_count": 1,
      "outputs": []
    },
    {
      "cell_type": "code",
      "metadata": {
        "id": "ACEun5jarmHm",
        "colab_type": "code",
        "colab": {}
      },
      "source": [
        "y = np.array([[2.68, 3.29, 2.88, 4.45],\n",
        "     [4.12, 4.96, 5.09, 5.22],\n",
        "     [5.52, 4.50, 5.42, 5.29]])\n",
        "y_mean = y.mean()"
      ],
      "execution_count": 2,
      "outputs": []
    },
    {
      "cell_type": "code",
      "metadata": {
        "id": "4jjpvlGysJZr",
        "colab_type": "code",
        "colab": {}
      },
      "source": [
        "SSa = 0\n",
        "\n",
        "for i in range(y.shape[0]):\n",
        "  SSa += (y_mean - y[i].mean())**(2)\n",
        "\n",
        "SSa *= y.shape[0]"
      ],
      "execution_count": 3,
      "outputs": []
    },
    {
      "cell_type": "code",
      "metadata": {
        "id": "-vjtF2qTs9P1",
        "colab_type": "code",
        "colab": {}
      },
      "source": [
        "SSb = 0\n",
        "\n",
        "for i in range(y.shape[1]):\n",
        "  SSb += (y_mean - y[:,i].mean())**(2)\n",
        "\n",
        "SSb *= y.shape[1]"
      ],
      "execution_count": 4,
      "outputs": []
    },
    {
      "cell_type": "code",
      "metadata": {
        "id": "TXbgpWBwtECM",
        "colab_type": "code",
        "colab": {}
      },
      "source": [
        "SSw = 0\n",
        "\n",
        "for i in range(y.shape[0]):\n",
        "  y_str_mean = y[i].mean()\n",
        "  for j in range(y.shape[1]):\n",
        "    SSw += (y[i,j] - y_str_mean - y[:,i].mean() + y_mean)"
      ],
      "execution_count": 5,
      "outputs": []
    },
    {
      "cell_type": "code",
      "metadata": {
        "id": "nM3k_4QGtd-J",
        "colab_type": "code",
        "colab": {}
      },
      "source": [
        "s_a = SSa / (y.shape[0]-1)\n",
        "s_b = SSb / (y.shape[1]-1)\n",
        "s_w = SSw / ((y.shape[1] - 1) * (y.shape[0]- 1))"
      ],
      "execution_count": 6,
      "outputs": []
    },
    {
      "cell_type": "code",
      "metadata": {
        "id": "sBsjtmmzvS04",
        "colab_type": "code",
        "colab": {
          "base_uri": "https://localhost:8080/",
          "height": 34
        },
        "outputId": "76da8814-a24a-4471-cb1a-dde6801f09a2"
      },
      "source": [
        "f_a = SSa/SSw\n",
        "f_a"
      ],
      "execution_count": 7,
      "outputs": [
        {
          "output_type": "execute_result",
          "data": {
            "text/plain": [
              "2.7479147196261797"
            ]
          },
          "metadata": {
            "tags": []
          },
          "execution_count": 7
        }
      ]
    },
    {
      "cell_type": "code",
      "metadata": {
        "id": "_zQCdin2vV40",
        "colab_type": "code",
        "colab": {
          "base_uri": "https://localhost:8080/",
          "height": 34
        },
        "outputId": "061ef96d-8c90-4f67-8fb4-d7d9c6aeed7b"
      },
      "source": [
        "f_b = SSb/SSw\n",
        "f_b"
      ],
      "execution_count": 8,
      "outputs": [
        {
          "output_type": "execute_result",
          "data": {
            "text/plain": [
              "0.833748701973006"
            ]
          },
          "metadata": {
            "tags": []
          },
          "execution_count": 8
        }
      ]
    },
    {
      "cell_type": "code",
      "metadata": {
        "id": "3Oh3mkXBSdzw",
        "colab_type": "code",
        "colab": {}
      },
      "source": [
        "alpha = 0.05"
      ],
      "execution_count": 14,
      "outputs": []
    },
    {
      "cell_type": "code",
      "metadata": {
        "id": "tBOIsGggvy8G",
        "colab_type": "code",
        "colab": {
          "base_uri": "https://localhost:8080/",
          "height": 34
        },
        "outputId": "39568c83-ef18-470e-9ed7-36e3c0dc2848"
      },
      "source": [
        "#f_a\n",
        "\n",
        "t = stats.f.ppf(1 - alpha, y.shape[0], 12)\n",
        "t\n",
        "\n",
        "#принимается"
      ],
      "execution_count": 15,
      "outputs": [
        {
          "output_type": "execute_result",
          "data": {
            "text/plain": [
              "3.490294819497605"
            ]
          },
          "metadata": {
            "tags": []
          },
          "execution_count": 15
        }
      ]
    },
    {
      "cell_type": "code",
      "metadata": {
        "id": "dC8Qn0p0vzPj",
        "colab_type": "code",
        "colab": {
          "base_uri": "https://localhost:8080/",
          "height": 34
        },
        "outputId": "cd73a826-b7bf-4640-cb34-ad3b80d9281a"
      },
      "source": [
        "#f_b\n",
        "\n",
        "t = stats.f.ppf(1 - alpha, y.shape[1], 12)\n",
        "t\n",
        "\n",
        "#принимается"
      ],
      "execution_count": 16,
      "outputs": [
        {
          "output_type": "execute_result",
          "data": {
            "text/plain": [
              "3.259166726901249"
            ]
          },
          "metadata": {
            "tags": []
          },
          "execution_count": 16
        }
      ]
    }
  ]
}