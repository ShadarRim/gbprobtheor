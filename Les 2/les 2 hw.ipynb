{
  "nbformat": 4,
  "nbformat_minor": 0,
  "metadata": {
    "colab": {
      "name": "GB prothor math.ipynb",
      "provenance": [],
      "collapsed_sections": []
    },
    "kernelspec": {
      "name": "python3",
      "display_name": "Python 3"
    }
  },
  "cells": [
    {
      "cell_type": "code",
      "metadata": {
        "id": "_R7AG7AXauYH",
        "colab_type": "code",
        "colab": {}
      },
      "source": [
        "import numpy as np\n",
        "import pandas as pd\n",
        "from itertools import product\n",
        "from matplotlib import pyplot as plt"
      ],
      "execution_count": 58,
      "outputs": []
    },
    {
      "cell_type": "markdown",
      "metadata": {
        "id": "XmLCPcoMavY9",
        "colab_type": "text"
      },
      "source": [
        "Задача 1\n",
        "\n",
        "Контрольная работа состоит из пяти вопросов. На каждый вопрос приведено четыре варианта ответа, один из которых правильный. Составьте закон распределения числа правильных ответов при простом угадывании. Найдите M(X), D(X)."
      ]
    },
    {
      "cell_type": "code",
      "metadata": {
        "id": "3zzr_WM4av1g",
        "colab_type": "code",
        "colab": {
          "base_uri": "https://localhost:8080/",
          "height": 289
        },
        "outputId": "3e154fb6-e5b1-4d21-a0ed-88c67f7709b7"
      },
      "source": [
        "res = list(product(np.arange(0, 2), repeat=4))\n",
        "res"
      ],
      "execution_count": 2,
      "outputs": [
        {
          "output_type": "execute_result",
          "data": {
            "text/plain": [
              "[(0, 0, 0, 0),\n",
              " (0, 0, 0, 1),\n",
              " (0, 0, 1, 0),\n",
              " (0, 0, 1, 1),\n",
              " (0, 1, 0, 0),\n",
              " (0, 1, 0, 1),\n",
              " (0, 1, 1, 0),\n",
              " (0, 1, 1, 1),\n",
              " (1, 0, 0, 0),\n",
              " (1, 0, 0, 1),\n",
              " (1, 0, 1, 0),\n",
              " (1, 0, 1, 1),\n",
              " (1, 1, 0, 0),\n",
              " (1, 1, 0, 1),\n",
              " (1, 1, 1, 0),\n",
              " (1, 1, 1, 1)]"
            ]
          },
          "metadata": {
            "tags": []
          },
          "execution_count": 2
        }
      ]
    },
    {
      "cell_type": "code",
      "metadata": {
        "id": "Y0r5V8vIcG16",
        "colab_type": "code",
        "colab": {
          "base_uri": "https://localhost:8080/",
          "height": 51
        },
        "outputId": "b46e7310-67fa-4b19-c026-ac2fb24218ec"
      },
      "source": [
        "probabilities = np.ones(len(res)) / 16\n",
        "probabilities"
      ],
      "execution_count": 3,
      "outputs": [
        {
          "output_type": "execute_result",
          "data": {
            "text/plain": [
              "array([0.0625, 0.0625, 0.0625, 0.0625, 0.0625, 0.0625, 0.0625, 0.0625,\n",
              "       0.0625, 0.0625, 0.0625, 0.0625, 0.0625, 0.0625, 0.0625, 0.0625])"
            ]
          },
          "metadata": {
            "tags": []
          },
          "execution_count": 3
        }
      ]
    },
    {
      "cell_type": "code",
      "metadata": {
        "id": "Ck5VCUZZnXq7",
        "colab_type": "code",
        "colab": {
          "base_uri": "https://localhost:8080/",
          "height": 34
        },
        "outputId": "5a20b173-adcd-41c5-c3d9-9e8faf4da706"
      },
      "source": [
        "values = list(map(sum, res))\n",
        "values[:10]"
      ],
      "execution_count": 4,
      "outputs": [
        {
          "output_type": "execute_result",
          "data": {
            "text/plain": [
              "[0, 1, 1, 2, 1, 2, 2, 3, 1, 2]"
            ]
          },
          "metadata": {
            "tags": []
          },
          "execution_count": 4
        }
      ]
    },
    {
      "cell_type": "code",
      "metadata": {
        "id": "CMOrDyL-nUGH",
        "colab_type": "code",
        "colab": {
          "base_uri": "https://localhost:8080/",
          "height": 545
        },
        "outputId": "06256e29-ffc3-478e-9c88-30dbd72a336c"
      },
      "source": [
        "z = pd.DataFrame({'value': values, 'probability': probabilities})\n",
        "z"
      ],
      "execution_count": 5,
      "outputs": [
        {
          "output_type": "execute_result",
          "data": {
            "text/html": [
              "<div>\n",
              "<style scoped>\n",
              "    .dataframe tbody tr th:only-of-type {\n",
              "        vertical-align: middle;\n",
              "    }\n",
              "\n",
              "    .dataframe tbody tr th {\n",
              "        vertical-align: top;\n",
              "    }\n",
              "\n",
              "    .dataframe thead th {\n",
              "        text-align: right;\n",
              "    }\n",
              "</style>\n",
              "<table border=\"1\" class=\"dataframe\">\n",
              "  <thead>\n",
              "    <tr style=\"text-align: right;\">\n",
              "      <th></th>\n",
              "      <th>value</th>\n",
              "      <th>probability</th>\n",
              "    </tr>\n",
              "  </thead>\n",
              "  <tbody>\n",
              "    <tr>\n",
              "      <th>0</th>\n",
              "      <td>0</td>\n",
              "      <td>0.0625</td>\n",
              "    </tr>\n",
              "    <tr>\n",
              "      <th>1</th>\n",
              "      <td>1</td>\n",
              "      <td>0.0625</td>\n",
              "    </tr>\n",
              "    <tr>\n",
              "      <th>2</th>\n",
              "      <td>1</td>\n",
              "      <td>0.0625</td>\n",
              "    </tr>\n",
              "    <tr>\n",
              "      <th>3</th>\n",
              "      <td>2</td>\n",
              "      <td>0.0625</td>\n",
              "    </tr>\n",
              "    <tr>\n",
              "      <th>4</th>\n",
              "      <td>1</td>\n",
              "      <td>0.0625</td>\n",
              "    </tr>\n",
              "    <tr>\n",
              "      <th>5</th>\n",
              "      <td>2</td>\n",
              "      <td>0.0625</td>\n",
              "    </tr>\n",
              "    <tr>\n",
              "      <th>6</th>\n",
              "      <td>2</td>\n",
              "      <td>0.0625</td>\n",
              "    </tr>\n",
              "    <tr>\n",
              "      <th>7</th>\n",
              "      <td>3</td>\n",
              "      <td>0.0625</td>\n",
              "    </tr>\n",
              "    <tr>\n",
              "      <th>8</th>\n",
              "      <td>1</td>\n",
              "      <td>0.0625</td>\n",
              "    </tr>\n",
              "    <tr>\n",
              "      <th>9</th>\n",
              "      <td>2</td>\n",
              "      <td>0.0625</td>\n",
              "    </tr>\n",
              "    <tr>\n",
              "      <th>10</th>\n",
              "      <td>2</td>\n",
              "      <td>0.0625</td>\n",
              "    </tr>\n",
              "    <tr>\n",
              "      <th>11</th>\n",
              "      <td>3</td>\n",
              "      <td>0.0625</td>\n",
              "    </tr>\n",
              "    <tr>\n",
              "      <th>12</th>\n",
              "      <td>2</td>\n",
              "      <td>0.0625</td>\n",
              "    </tr>\n",
              "    <tr>\n",
              "      <th>13</th>\n",
              "      <td>3</td>\n",
              "      <td>0.0625</td>\n",
              "    </tr>\n",
              "    <tr>\n",
              "      <th>14</th>\n",
              "      <td>3</td>\n",
              "      <td>0.0625</td>\n",
              "    </tr>\n",
              "    <tr>\n",
              "      <th>15</th>\n",
              "      <td>4</td>\n",
              "      <td>0.0625</td>\n",
              "    </tr>\n",
              "  </tbody>\n",
              "</table>\n",
              "</div>"
            ],
            "text/plain": [
              "    value  probability\n",
              "0       0       0.0625\n",
              "1       1       0.0625\n",
              "2       1       0.0625\n",
              "3       2       0.0625\n",
              "4       1       0.0625\n",
              "5       2       0.0625\n",
              "6       2       0.0625\n",
              "7       3       0.0625\n",
              "8       1       0.0625\n",
              "9       2       0.0625\n",
              "10      2       0.0625\n",
              "11      3       0.0625\n",
              "12      2       0.0625\n",
              "13      3       0.0625\n",
              "14      3       0.0625\n",
              "15      4       0.0625"
            ]
          },
          "metadata": {
            "tags": []
          },
          "execution_count": 5
        }
      ]
    },
    {
      "cell_type": "code",
      "metadata": {
        "id": "qhw8JII7n6rz",
        "colab_type": "code",
        "colab": {
          "base_uri": "https://localhost:8080/",
          "height": 136
        },
        "outputId": "898660b1-9c96-4c2c-d1e2-f73383122a03"
      },
      "source": [
        "z_probabilities = z.groupby('value')['probability'].sum()\n",
        "\n",
        "z_probabilities"
      ],
      "execution_count": 6,
      "outputs": [
        {
          "output_type": "execute_result",
          "data": {
            "text/plain": [
              "value\n",
              "0    0.0625\n",
              "1    0.2500\n",
              "2    0.3750\n",
              "3    0.2500\n",
              "4    0.0625\n",
              "Name: probability, dtype: float64"
            ]
          },
          "metadata": {
            "tags": []
          },
          "execution_count": 6
        }
      ]
    },
    {
      "cell_type": "code",
      "metadata": {
        "id": "JBghDVe5ISLT",
        "colab_type": "code",
        "colab": {
          "base_uri": "https://localhost:8080/",
          "height": 34
        },
        "outputId": "f5f71740-c798-4d10-83c3-986ba2f06204"
      },
      "source": [
        "values = np.array([0, 1, 2, 3, 4])\n",
        "prob = np.array([0.0625, 0.25, 0.375, 0.25, 0.0625])\n",
        "\n",
        "mean = (values*prob).sum()\n",
        "mean"
      ],
      "execution_count": 9,
      "outputs": [
        {
          "output_type": "execute_result",
          "data": {
            "text/plain": [
              "2.0"
            ]
          },
          "metadata": {
            "tags": []
          },
          "execution_count": 9
        }
      ]
    },
    {
      "cell_type": "code",
      "metadata": {
        "id": "ZUYXC-eFGgPc",
        "colab_type": "code",
        "colab": {
          "base_uri": "https://localhost:8080/",
          "height": 34
        },
        "outputId": "206bf93a-474a-47b4-e597-08fb1883d2a0"
      },
      "source": [
        "var = (((values - mean)**2)*prob).sum()\n",
        "var"
      ],
      "execution_count": 10,
      "outputs": [
        {
          "output_type": "execute_result",
          "data": {
            "text/plain": [
              "1.0"
            ]
          },
          "metadata": {
            "tags": []
          },
          "execution_count": 10
        }
      ]
    },
    {
      "cell_type": "markdown",
      "metadata": {
        "id": "QPa3q5TGawYN",
        "colab_type": "text"
      },
      "source": [
        "Пользователь получает в среднем 10 писем со спамом на свой почтовый ящик за сутки. Найти число N, такое, что с вероятностью 0.95 пользователь получит не более N писем со спамом за текущий день."
      ]
    },
    {
      "cell_type": "code",
      "metadata": {
        "id": "xyFveDRVrRhI",
        "colab_type": "code",
        "colab": {}
      },
      "source": [
        "def p(k, l=10):\n",
        "  return (l**k) * (np.exp(-l))/np.math.factorial(k)"
      ],
      "execution_count": 24,
      "outputs": []
    },
    {
      "cell_type": "code",
      "metadata": {
        "id": "wBvRM0qYawkJ",
        "colab_type": "code",
        "colab": {
          "base_uri": "https://localhost:8080/",
          "height": 34
        },
        "outputId": "5016ddfb-5128-4c37-d7e0-d30020eb8d1f"
      },
      "source": [
        "agr = []\n",
        "for i in range (0, 26):\n",
        "  if not i:\n",
        "    agr.append(p(i))\n",
        "  else:\n",
        "    agr.append(agr[i-1]+p(i))\n",
        "  \n",
        "  if agr[i] > 0.95:\n",
        "    print('N =',i)\n",
        "    break\n",
        "\n",
        "\n",
        "\n"
      ],
      "execution_count": 36,
      "outputs": [
        {
          "output_type": "stream",
          "text": [
            "N = 15\n"
          ],
          "name": "stdout"
        }
      ]
    },
    {
      "cell_type": "markdown",
      "metadata": {
        "id": "ofAIjZZhawqS",
        "colab_type": "text"
      },
      "source": [
        "Производятся выстрелы по мишени. Вероятность попадания в мишень при одном выстреле равна 0.01. Сколько выстрелов нужно сделать чтобы быть уверенным с вероятностью 0.9, что хотя бы 6 раз будет совершено попадание?\n",
        "\n",
        "Подсказка. 1) \"Вероятность попасть k раз при n выстрелах\" - на какое распределение это похоже? 2) А если нам нужна вероятность P(X >= k), а не P(X = k)? 3) Здесь предстоит немножко покодить."
      ]
    },
    {
      "cell_type": "code",
      "metadata": {
        "id": "HUsjVNT2uQVi",
        "colab_type": "code",
        "colab": {}
      },
      "source": [
        "def combinations(n: int, k: int) -> int:\n",
        "    \"\"\"Число сочетаний.\n",
        "    \"\"\"\n",
        "    \n",
        "    return np.math.factorial(n) // (np.math.factorial(k) * np.math.factorial(n - k))"
      ],
      "execution_count": 41,
      "outputs": []
    },
    {
      "cell_type": "code",
      "metadata": {
        "id": "gdftvHdP0yIu",
        "colab_type": "code",
        "colab": {
          "base_uri": "https://localhost:8080/",
          "height": 299
        },
        "outputId": "c2d20478-4940-4951-bd2c-b8a6b9ad3712"
      },
      "source": [
        "reslist = []\n",
        "k = 6\n",
        "max = 2000\n",
        "count = True\n",
        "final = 0\n",
        "\n",
        "for i in range(k, max):\n",
        "  res = combinations(i, k)*((0.01)**k)*((0.99)**(i-k)) / 100\n",
        "  if i == k:\n",
        "    reslist.append(0)\n",
        "  else:\n",
        "    reslist.append(res + reslist[i-1-k])\n",
        "\n",
        "  if count and reslist[i-1-k] > 0.9:\n",
        "    print(f'С указанной вероятность гарантия попадания наступает при {i} выстрелах')\n",
        "    final = i\n",
        "    count = False\n",
        "\n",
        "plt.plot(range(k, max), reslist)\n",
        "plt.plot(final, reslist[final], 'o')\n"
      ],
      "execution_count": 82,
      "outputs": [
        {
          "output_type": "stream",
          "text": [
            "С указанной вероятность гарантия попадания наступает при 1051 выстрелах\n"
          ],
          "name": "stdout"
        },
        {
          "output_type": "execute_result",
          "data": {
            "text/plain": [
              "[<matplotlib.lines.Line2D at 0x7f16cbfb4390>]"
            ]
          },
          "metadata": {
            "tags": []
          },
          "execution_count": 82
        },
        {
          "output_type": "display_data",
          "data": {
            "image/png": "[encoded data removed]",
            "text/plain": [
              "<Figure size 432x288 with 1 Axes>"
            ]
          },
          "metadata": {
            "tags": [],
            "needs_background": "light"
          }
        }
      ]
    }
  ]
}