{
  "nbformat": 4,
  "nbformat_minor": 0,
  "metadata": {
    "colab": {
      "name": "gbprob4.ipynb",
      "provenance": []
    },
    "kernelspec": {
      "name": "python3",
      "display_name": "Python 3"
    }
  },
  "cells": [
    {
      "cell_type": "markdown",
      "metadata": {
        "id": "Vicw_mdGZsVp",
        "colab_type": "text"
      },
      "source": [
        "О непрерывной равномерно распределённой случайной величине B известно, что её дисперсия равна 0.2. Можно ли найти правую границу величины B и её среднее значение зная, что левая граница равна 0.5? Если да, найдите их."
      ]
    },
    {
      "cell_type": "code",
      "metadata": {
        "id": "pgQGsZurZmmK",
        "colab_type": "code",
        "colab": {
          "base_uri": "https://localhost:8080/",
          "height": 34
        },
        "outputId": "ac0aa9ad-764d-479c-8a79-47e9ac2906cf"
      },
      "source": [
        "D = 0.2\n",
        "a = 0.5\n",
        "\n",
        "b = a + (12*D)**(1/2)\n",
        "m = (b-a)/2\n",
        "\n",
        "print(b, m)"
      ],
      "execution_count": null,
      "outputs": [
        {
          "output_type": "stream",
          "text": [
            "2.049193338482967 0.7745966692414834\n"
          ],
          "name": "stdout"
        }
      ]
    },
    {
      "cell_type": "markdown",
      "metadata": {
        "id": "NK0rYauPZvP6",
        "colab_type": "text"
      },
      "source": [
        "Коробки с шоколадом упаковываются автоматически. Их средняя масса равна 1.06 кг. Известно, что 5% коробок имеют массу, меньшую 1 кг. Найдите: а) среднее квадратическое отклонение массы коробки, б) процент коробок, имеющих массу больше 1.1 кг.\n",
        "\n",
        "Подсказка. Найдите такое значение scale, для которого значение cdf(x=1, loc=1.06, scale=scale) близко к 0.05. Точности 0.0001 будет достаточно."
      ]
    },
    {
      "cell_type": "code",
      "metadata": {
        "id": "kdM6Bqa1ZyQx",
        "colab_type": "code",
        "colab": {}
      },
      "source": [
        "from scipy import stats\n",
        "import math"
      ],
      "execution_count": null,
      "outputs": []
    },
    {
      "cell_type": "code",
      "metadata": {
        "id": "ZYRIix8KbqNb",
        "colab_type": "code",
        "colab": {
          "base_uri": "https://localhost:8080/",
          "height": 51
        },
        "outputId": "ce5a2bf4-5701-44cc-ef49-3e24ecbf83a8"
      },
      "source": [
        "m = 1.06\n",
        "# по правилу двух сигма 95% попдают в интервал m +- 2s\n",
        "s = 0.036478\n",
        "print(stats.norm.cdf(1, loc=1.06, scale=s))\n",
        "print('Процент коробок, имеющих массу больше 1.1 = f(inf) - f(x<1.1): ', stats.norm.cdf(math.inf, loc=1.06, scale=s)-stats.norm.cdf(1.1, loc=1.06, scale=s))\n"
      ],
      "execution_count": null,
      "outputs": [
        {
          "output_type": "stream",
          "text": [
            "0.050002744285571166\n",
            "Процент коробок, имеющих массу больше 1.1 = f(inf) - f(x<1.1):  0.13641878306411004\n"
          ],
          "name": "stdout"
        }
      ]
    },
    {
      "cell_type": "markdown",
      "metadata": {
        "id": "3kYULMmHZxiJ",
        "colab_type": "text"
      },
      "source": [
        "Коробка содержит 30 конфет. Известно, что масса каждой конфеты распределена равномерно в промежутке от 12 до 14 граммов. Используя центральную предельную теорему, найти вероятность, что масса всей коробки будет: а) меньше 390 граммов, б) больше 395 граммов, в) от 380 до 400 граммов.\n",
        "\n",
        "Массой самой коробки можно пренебречь.\n"
      ]
    },
    {
      "cell_type": "code",
      "metadata": {
        "id": "p_tedoMNZ0qR",
        "colab_type": "code",
        "colab": {
          "base_uri": "https://localhost:8080/",
          "height": 102
        },
        "outputId": "0dfce870-6e73-4431-e076-112b22a8d8e8"
      },
      "source": [
        "m = (14+12)/2\n",
        "d = (14-12)**2/2\n",
        "print(m,d)\n",
        "n = 30\n",
        "print(n*m, n*d)\n",
        "\n",
        "print('Вероятность всей коробки меньше 390 грамма: ', stats.norm.cdf(390, loc=n*m, scale=(n*d)**(1/2)) - stats.norm.cdf(-math.inf, loc=n*m, scale=(n*d)**(1/2)))\n",
        "print('Вероятность всей коробки больше 395 грамма: ', stats.norm.cdf(math.inf, loc=n*m, scale=(n*d)**(1/2)) - stats.norm.cdf(395, loc=n*m, scale=(n*d)**(1/2)))\n",
        "print('Вероятность всей коробки от 380 до 400 грамм: ', stats.norm.cdf(400, loc=n*m, scale=(n*d)**(1/2)) - stats.norm.cdf(380, loc=n*m, scale=(n*d)**(1/2)))"
      ],
      "execution_count": null,
      "outputs": [
        {
          "output_type": "stream",
          "text": [
            "13.0 2.0\n",
            "390.0 60.0\n",
            "Вероятность всей коробки меньше 390 грамма:  0.5\n",
            "Вероятность всей коробки больше 395 грамма:  0.25930250821436274\n",
            "Вероятность всей коробки от 380 до 400 грамм:  0.8032943975410531\n"
          ],
          "name": "stdout"
        }
      ]
    }
  ]
}