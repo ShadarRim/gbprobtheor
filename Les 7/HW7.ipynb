{
  "nbformat": 4,
  "nbformat_minor": 0,
  "metadata": {
    "colab": {
      "name": "HW7.ipynb",
      "provenance": []
    },
    "kernelspec": {
      "name": "python3",
      "display_name": "Python 3"
    }
  },
  "cells": [
    {
      "cell_type": "code",
      "metadata": {
        "id": "V9qLZospSRpj",
        "colab_type": "code",
        "colab": {}
      },
      "source": [
        "import numpy as np\n",
        "from itertools import *\n",
        "from pprint import pprint\n",
        "from scipy import stats"
      ],
      "execution_count": null,
      "outputs": []
    },
    {
      "cell_type": "markdown",
      "metadata": {
        "id": "_UU-E2_5abGQ",
        "colab_type": "text"
      },
      "source": [
        "## Задача 1\n",
        "\n",
        "Дана матрица объект-признак\n",
        "\n",
        "X = [[ 1.22401313, 2.30868478, 3.03636353, 2.69287214],\n",
        "[-0.18757272, 1.30337355, 5.12093014, 3.46363202],\n",
        "[-0.81094525, 1.82463398, 5.79686488, 1.86159445],\n",
        "[ 0.75129018, 2.67392052, 3.65529809, 1.66746094],\n",
        "[ 0.00972362, 1.97367255, 2.50594319, 1.69755173],\n",
        "[-0.62972637, 0.77750764, 2.84124027, 4.54410559],\n",
        "[ 2.29536229, 1.81206697, 1.95026215, 1.51874636],\n",
        "[ 0.0920418 , 2.26971361, 7.47708735, 2.61081203],\n",
        "[ 2.39252799, 3.17563985, 3.61420599, 5.10773362],\n",
        "[ 0.54983815, 2.87988651, 1.65752765, 1.59635987]]\n",
        "\n",
        "и значения целевой переменной\n",
        "\n",
        "y = [ 9.26193358, 9.700363 , 8.67214805, 8.74796974, 6.18689108,\n",
        "7.53312713, 7.57643777, 12.44965478, 14.29010746, 6.68361218]\n",
        "\n",
        "Подберите два признака (из четырёх) так, чтобы уровень линейной зависимости целевой переменной от значений этих признаков был максимальным. Другими словами, модель линейной регрессии на этих признаках должна давать наилучший результат.\n",
        "Является ли значимым получившееся уравнение регрессии?"
      ]
    },
    {
      "cell_type": "code",
      "metadata": {
        "id": "8zMmGZ-arFBT",
        "colab_type": "code",
        "colab": {}
      },
      "source": [
        "def sum_of_squares(samples: np.ndarray) -> float:\n",
        "    return ((samples - samples.mean()) ** 2).sum()"
      ],
      "execution_count": null,
      "outputs": []
    },
    {
      "cell_type": "code",
      "metadata": {
        "id": "p-uj7NqpS8Y3",
        "colab_type": "code",
        "colab": {}
      },
      "source": [
        "X = [[ 1.22401313, 2.30868478, 3.03636353, 2.69287214],\n",
        "[-0.18757272, 1.30337355, 5.12093014, 3.46363202],\n",
        "[-0.81094525, 1.82463398, 5.79686488, 1.86159445],\n",
        "[ 0.75129018, 2.67392052, 3.65529809, 1.66746094],\n",
        "[ 0.00972362, 1.97367255, 2.50594319, 1.69755173],\n",
        "[-0.62972637, 0.77750764, 2.84124027, 4.54410559],\n",
        "[ 2.29536229, 1.81206697, 1.95026215, 1.51874636],\n",
        "[ 0.0920418 , 2.26971361, 7.47708735, 2.61081203],\n",
        "[ 2.39252799, 3.17563985, 3.61420599, 5.10773362],\n",
        "[ 0.54983815, 2.87988651, 1.65752765, 1.59635987]]"
      ],
      "execution_count": null,
      "outputs": []
    },
    {
      "cell_type": "code",
      "metadata": {
        "id": "ZziGnDvCS-Yc",
        "colab_type": "code",
        "colab": {}
      },
      "source": [
        "y = [ 9.26193358, 9.700363 , 8.67214805, 8.74796974, 6.18689108,\n",
        "7.53312713, 7.57643777, 12.44965478, 14.29010746, 6.68361218]"
      ],
      "execution_count": null,
      "outputs": []
    },
    {
      "cell_type": "code",
      "metadata": {
        "id": "tL7UkR7iUY0M",
        "colab_type": "code",
        "colab": {}
      },
      "source": [
        "factor = [i for i in range(np.array(X).shape[1])]"
      ],
      "execution_count": null,
      "outputs": []
    },
    {
      "cell_type": "code",
      "metadata": {
        "id": "m0EIacD6TFe-",
        "colab_type": "code",
        "colab": {
          "base_uri": "https://localhost:8080/",
          "height": 187
        },
        "outputId": "746150f0-959e-42ef-ecba-915c50809ee7"
      },
      "source": [
        "fact_x = np.array(X)\n",
        "fact_x[:, 1, None]"
      ],
      "execution_count": null,
      "outputs": [
        {
          "output_type": "execute_result",
          "data": {
            "text/plain": [
              "array([[2.30868478],\n",
              "       [1.30337355],\n",
              "       [1.82463398],\n",
              "       [2.67392052],\n",
              "       [1.97367255],\n",
              "       [0.77750764],\n",
              "       [1.81206697],\n",
              "       [2.26971361],\n",
              "       [3.17563985],\n",
              "       [2.87988651]])"
            ]
          },
          "metadata": {
            "tags": []
          },
          "execution_count": 106
        }
      ]
    },
    {
      "cell_type": "code",
      "metadata": {
        "id": "MEnOQ3xwVWQg",
        "colab_type": "code",
        "colab": {
          "base_uri": "https://localhost:8080/",
          "height": 187
        },
        "outputId": "b1041c16-27ff-495e-c42c-eec4f5d7212e"
      },
      "source": [
        "ones = np.ones((10,1))\n",
        "ones\n",
        "\n"
      ],
      "execution_count": null,
      "outputs": [
        {
          "output_type": "execute_result",
          "data": {
            "text/plain": [
              "array([[1.],\n",
              "       [1.],\n",
              "       [1.],\n",
              "       [1.],\n",
              "       [1.],\n",
              "       [1.],\n",
              "       [1.],\n",
              "       [1.],\n",
              "       [1.],\n",
              "       [1.]])"
            ]
          },
          "metadata": {
            "tags": []
          },
          "execution_count": 107
        }
      ]
    },
    {
      "cell_type": "code",
      "metadata": {
        "id": "X05CV3T0TpsG",
        "colab_type": "code",
        "colab": {
          "base_uri": "https://localhost:8080/",
          "height": 119
        },
        "outputId": "9ac7b1e5-1efa-46e8-8f7b-504ce43c999f"
      },
      "source": [
        "rlist = []\n",
        "for i in combinations(factor, 2):\n",
        "    res = {}\n",
        "    x_pot = np.hstack((ones, fact_x[:, i[0], None], fact_x[:, i[1], None]))\n",
        "    XTX = x_pot.T.dot(x_pot)\n",
        "    XTX_inv = np.linalg.inv(XTX)\n",
        "\n",
        "    b = XTX_inv.dot(x_pot.T).dot(y)\n",
        "    z = x_pot.dot(b)\n",
        "    e = y - z\n",
        "\n",
        "    R = 1 - sum_of_squares(e) / sum_of_squares(np.array(y))\n",
        "    res = {'c1': i[0], 'c2': i[1], 'R': R}\n",
        "    rlist.append(res)\n",
        "\n",
        "\n",
        "pprint(rlist)"
      ],
      "execution_count": null,
      "outputs": [
        {
          "output_type": "stream",
          "text": [
            "[{'R': 0.18113594742585215, 'c1': 0, 'c2': 1},\n",
            " {'R': 0.7634246238793152, 'c1': 0, 'c2': 2},\n",
            " {'R': 0.4532966783144077, 'c1': 0, 'c2': 3},\n",
            " {'R': 0.547948273403901, 'c1': 1, 'c2': 2},\n",
            " {'R': 0.6062055761129932, 'c1': 1, 'c2': 3},\n",
            " {'R': 0.622441987650532, 'c1': 2, 'c2': 3}]\n"
          ],
          "name": "stdout"
        }
      ]
    },
    {
      "cell_type": "code",
      "metadata": {
        "id": "KW2H8tI3v9it",
        "colab_type": "code",
        "colab": {}
      },
      "source": [
        "R = 0.7634246238793152"
      ],
      "execution_count": null,
      "outputs": []
    },
    {
      "cell_type": "code",
      "metadata": {
        "id": "cWWDnASGvdK5",
        "colab_type": "code",
        "colab": {
          "base_uri": "https://localhost:8080/",
          "height": 34
        },
        "outputId": "e6321dd9-0bdc-4051-a00a-c57fdb532ffd"
      },
      "source": [
        "n = 10\n",
        "m = 2\n",
        "\n",
        "k1 = m\n",
        "k2 = n - m - 1\n",
        "\n",
        "k1, k2"
      ],
      "execution_count": null,
      "outputs": [
        {
          "output_type": "execute_result",
          "data": {
            "text/plain": [
              "(2, 7)"
            ]
          },
          "metadata": {
            "tags": []
          },
          "execution_count": 110
        }
      ]
    },
    {
      "cell_type": "code",
      "metadata": {
        "id": "74jOl6SYvtQj",
        "colab_type": "code",
        "colab": {
          "base_uri": "https://localhost:8080/",
          "height": 34
        },
        "outputId": "26746eb9-d74d-46d5-cdc1-2abb9a22a322"
      },
      "source": [
        "alpha = 0.05\n",
        "\n",
        "t = stats.f.ppf(1 - alpha, k1, k2)\n",
        "t"
      ],
      "execution_count": null,
      "outputs": [
        {
          "output_type": "execute_result",
          "data": {
            "text/plain": [
              "4.73741412777588"
            ]
          },
          "metadata": {
            "tags": []
          },
          "execution_count": 111
        }
      ]
    },
    {
      "cell_type": "code",
      "metadata": {
        "id": "fNQLBh-4vvWU",
        "colab_type": "code",
        "colab": {
          "base_uri": "https://localhost:8080/",
          "height": 34
        },
        "outputId": "9fa594da-bfe0-4b47-ac92-485f628ab28d"
      },
      "source": [
        "F = (R / k1) / ((1 - R1) / k2)\n",
        "F\n",
        "# незначим"
      ],
      "execution_count": null,
      "outputs": [
        {
          "output_type": "execute_result",
          "data": {
            "text/plain": [
              "3.2630400310992473"
            ]
          },
          "metadata": {
            "tags": []
          },
          "execution_count": 112
        }
      ]
    },
    {
      "cell_type": "markdown",
      "metadata": {
        "id": "5KBjhmSY1ea4",
        "colab_type": "text"
      },
      "source": [
        "## Задача 2\n",
        "\n",
        "Для проведения A/B-тестирования сайта интернет-магазина были получены следующие данные: страница A была посещена 2509 раз, из них 77 закончились совершением покупки, страница B была посещена 1465 раз, 60 из них закончились совершением покупки. Является ли значимым отличие конверсии на страницах A и B?"
      ]
    },
    {
      "cell_type": "code",
      "metadata": {
        "id": "Bl0y9jnmFK-f",
        "colab_type": "code",
        "colab": {}
      },
      "source": [
        "pos1 = 77\n",
        "all1 = 2509\n",
        "\n",
        "pos2 = 60\n",
        "all2 = 1465\n",
        "\n",
        "mean1 = pos1/all1\n",
        "mean2 = pos2/all2"
      ],
      "execution_count": null,
      "outputs": []
    },
    {
      "cell_type": "code",
      "metadata": {
        "id": "0ItpTTZWf68-",
        "colab_type": "code",
        "colab": {
          "base_uri": "https://localhost:8080/",
          "height": 34
        },
        "outputId": "23828005-21e4-48ac-ca16-25994ec3872f"
      },
      "source": [
        "np.zeros(all1-pos1)"
      ],
      "execution_count": null,
      "outputs": [
        {
          "output_type": "execute_result",
          "data": {
            "text/plain": [
              "array([0., 0., 0., ..., 0., 0., 0.])"
            ]
          },
          "metadata": {
            "tags": []
          },
          "execution_count": 119
        }
      ]
    },
    {
      "cell_type": "code",
      "metadata": {
        "id": "vXrm0RUSFeNz",
        "colab_type": "code",
        "colab": {}
      },
      "source": [
        "res1 = np.concatenate((np.ones(pos1), np.zeros(all1-pos1)), axis=0)\n",
        "res2 = np.concatenate((np.ones(pos2), np.zeros(all2-pos2)), axis=0)\n",
        "res = np.concatenate((res1, res2), axis=0)"
      ],
      "execution_count": null,
      "outputs": []
    },
    {
      "cell_type": "code",
      "metadata": {
        "id": "iV-W0sopgU2i",
        "colab_type": "code",
        "colab": {}
      },
      "source": [
        "res1_mean = res1.mean()\n",
        "res2_mean = res2.mean()\n",
        "res_mean = res.mean()"
      ],
      "execution_count": null,
      "outputs": []
    },
    {
      "cell_type": "code",
      "metadata": {
        "id": "xNCUaGJgghs9",
        "colab_type": "code",
        "colab": {
          "base_uri": "https://localhost:8080/",
          "height": 34
        },
        "outputId": "c98e461f-0d0a-4592-cb95-f4728a6c9340"
      },
      "source": [
        "SS_b = all1 * (res1_mean - res_mean) ** 2 + all2 * (res2_mean - res_mean) ** 2\n",
        "\n",
        "SS_w = ((res1 - res1_mean) ** 2).sum() + ((res2 - res2_mean) ** 2).sum()\n",
        "\n",
        "SS_b, SS_w"
      ],
      "execution_count": null,
      "outputs": [
        {
          "output_type": "execute_result",
          "data": {
            "text/plain": [
              "(0.09748158004016791, 132.17956925035745)"
            ]
          },
          "metadata": {
            "tags": []
          },
          "execution_count": 126
        }
      ]
    },
    {
      "cell_type": "code",
      "metadata": {
        "id": "Lz4SmPv9gxSy",
        "colab_type": "code",
        "colab": {
          "base_uri": "https://localhost:8080/",
          "height": 34
        },
        "outputId": "97b14aa5-5a71-41bc-eead-2dd0f5f4ddb5"
      },
      "source": [
        "k = 2\n",
        "n = all1 + all2\n",
        "\n",
        "k1 = k - 1\n",
        "k2 = n - k\n",
        "\n",
        "sigma2_b = SS_b / k1\n",
        "sigma2_w = SS_w / k2\n",
        "\n",
        "sigma2_b, sigma2_w"
      ],
      "execution_count": null,
      "outputs": [
        {
          "output_type": "execute_result",
          "data": {
            "text/plain": [
              "(0.09748158004016791, 0.03327783717279895)"
            ]
          },
          "metadata": {
            "tags": []
          },
          "execution_count": 127
        }
      ]
    },
    {
      "cell_type": "code",
      "metadata": {
        "id": "ZTZvU7G9g17K",
        "colab_type": "code",
        "colab": {
          "base_uri": "https://localhost:8080/",
          "height": 34
        },
        "outputId": "729cb023-9d5e-476c-d026-ee19b50c916a"
      },
      "source": [
        "F = sigma2_b / sigma2_w\n",
        "F"
      ],
      "execution_count": null,
      "outputs": [
        {
          "output_type": "execute_result",
          "data": {
            "text/plain": [
              "2.9293243889013496"
            ]
          },
          "metadata": {
            "tags": []
          },
          "execution_count": 128
        }
      ]
    },
    {
      "cell_type": "code",
      "metadata": {
        "id": "kvmJyGglg3er",
        "colab_type": "code",
        "colab": {
          "base_uri": "https://localhost:8080/",
          "height": 34
        },
        "outputId": "d91da07d-298d-4069-b9b8-8bfb28c8b0f9"
      },
      "source": [
        "alpha = 0.05\n",
        "\n",
        "t = stats.f.ppf(1 - alpha, k1, k2)\n",
        "t\n",
        "\n",
        "#стастистически не значимо"
      ],
      "execution_count": null,
      "outputs": [
        {
          "output_type": "execute_result",
          "data": {
            "text/plain": [
              "3.8438010503414866"
            ]
          },
          "metadata": {
            "tags": []
          },
          "execution_count": 130
        }
      ]
    },
    {
      "cell_type": "markdown",
      "metadata": {
        "id": "8JN5zhSP5TIq",
        "colab_type": "text"
      },
      "source": [
        "## Задача 3\n",
        "\n",
        "__Квартет Энскомба__ — популярный в области анализа данных пример наборов данных, у которых практически совпадают все статистические свойства (средние, дисперсии, коэффициенты корреляции, регрессионные линии), однако, существенно отличаются графики. Данный пример призван показать, насколько важна визуализация данных. Датасет представляет собой 4 пары выборок:\n",
        "\n",
        "```\n",
        "{\n",
        "    \"x1\": [10.0, 8.0, 13.0, 9.0, 11.0, 14.0, 6.0, 4.0, 12.0, 7.0, 5.0],\n",
        "    \"y1\": [8.04, 6.95, 7.58, 8.81, 8.33, 9.96, 7.24, 4.26, 10.84, 4.82, 5.68],\n",
        "    \"x2\": [10.0, 8.0, 13.0, 9.0, 11.0, 14.0, 6.0, 4.0, 12.0, 7.0, 5.0],\n",
        "    \"y2\": [9.14, 8.14, 8.74, 8.77, 9.26, 8.1, 6.13, 3.1, 9.13, 7.26, 4.74],\n",
        "    \"x3\": [10.0, 8.0, 13.0, 9.0, 11.0, 14.0, 6.0, 4.0, 12.0, 7.0, 5.0],\n",
        "    \"y3\": [7.46, 6.77, 12.74, 7.11, 7.81, 8.84, 6.08, 5.39, 8.15, 6.42, 5.73],\n",
        "    \"x4\": [8.0, 8.0, 8.0, 8.0, 8.0, 8.0, 8.0, 19.0, 8.0, 8.0, 8.0],\n",
        "    \"y4\": [6.58, 5.76, 7.71, 8.84, 8.47, 7.04, 5.25, 12.5, 5.56, 7.91, 6.89]\n",
        "}\n",
        "```\n",
        "\n",
        "По каждой паре выборок посчитайте:\n",
        "\n",
        "1. выборочное среднее и дисперсию каждой выборки,\n",
        "2. коэффициент корреляции Пирсона и прямую линейной регрессии.\n",
        "\n",
        "Убедившись в том, что они не практически не отличаются, постройте `scatter plot` по каждой паре выборок."
      ]
    },
    {
      "cell_type": "code",
      "metadata": {
        "id": "WHvFm7nc5a8b",
        "colab_type": "code",
        "colab": {}
      },
      "source": [
        "data = {\n",
        "    \"x1\": [10.0, 8.0, 13.0, 9.0, 11.0, 14.0, 6.0, 4.0, 12.0, 7.0, 5.0],\n",
        "    \"y1\": [8.04, 6.95, 7.58, 8.81, 8.33, 9.96, 7.24, 4.26, 10.84, 4.82, 5.68],\n",
        "    \"x2\": [10.0, 8.0, 13.0, 9.0, 11.0, 14.0, 6.0, 4.0, 12.0, 7.0, 5.0],\n",
        "    \"y2\": [9.14, 8.14, 8.74, 8.77, 9.26, 8.1, 6.13, 3.1, 9.13, 7.26, 4.74],\n",
        "    \"x3\": [10.0, 8.0, 13.0, 9.0, 11.0, 14.0, 6.0, 4.0, 12.0, 7.0, 5.0],\n",
        "    \"y3\": [7.46, 6.77, 12.74, 7.11, 7.81, 8.84, 6.08, 5.39, 8.15, 6.42, 5.73],\n",
        "    \"x4\": [8.0, 8.0, 8.0, 8.0, 8.0, 8.0, 8.0, 19.0, 8.0, 8.0, 8.0],\n",
        "    \"y4\": [6.58, 5.76, 7.71, 8.84, 8.47, 7.04, 5.25, 12.5, 5.56, 7.91, 6.89]\n",
        "}"
      ],
      "execution_count": null,
      "outputs": []
    },
    {
      "cell_type": "code",
      "metadata": {
        "id": "Iq22veTD5oNd",
        "colab_type": "code",
        "colab": {}
      },
      "source": [
        "x1 = np.array(data['x1'])\n",
        "y1 = np.array(data['y1'])\n",
        "x2 = np.array(data['x2'])\n",
        "y2 = np.array(data['y2'])\n",
        "x3 = np.array(data['x3'])\n",
        "y3 = np.array(data['y3'])\n",
        "x4 = np.array(data['x4'])\n",
        "y4 = np.array(data['y4'])"
      ],
      "execution_count": null,
      "outputs": []
    },
    {
      "cell_type": "code",
      "metadata": {
        "id": "elQU-sNG-wUI",
        "colab_type": "code",
        "colab": {}
      },
      "source": [
        "def prog(x1, y1):\n",
        "  print(x1.mean())\n",
        "  print(y1.mean())\n",
        "  print(x1.var())\n",
        "  print(y1.var())\n",
        "  print(np.corrcoef(x1, y1))\n",
        "\n",
        "  b1 = np.cov(x1, y1, ddof=1)[0, 1] / np.var(x1, ddof=1)\n",
        "  b0 = y1.mean() - b1 * x1.mean()\n",
        "  print(b1, b0)\n",
        "\n",
        "  oy = b0 + b1 * x1\n",
        "  print(oy)"
      ],
      "execution_count": null,
      "outputs": []
    },
    {
      "cell_type": "code",
      "metadata": {
        "id": "ttwTYSomBsRr",
        "colab_type": "code",
        "colab": {}
      },
      "source": [
        "print('x1 y1')\n",
        "prog(x1, y1)\n",
        "print('x2 y2')\n",
        "prog(x2, y2)\n",
        "print('x3 y3')\n",
        "prog(x3, y3)\n",
        "print('x4 y4')\n",
        "prog(x4, y4)"
      ],
      "execution_count": null,
      "outputs": []
    },
    {
      "cell_type": "code",
      "metadata": {
        "id": "tqclgYhkBjIu",
        "colab_type": "code",
        "colab": {}
      },
      "source": [
        "from matplotlib import pyplot as plt\n",
        "\n",
        "plt.scatter(x1, y1, c='r')\n",
        "plt.scatter(x2, y2, c='g')\n",
        "plt.scatter(x3, y3, c='y')\n",
        "plt.scatter(x4, y4, c='b')"
      ],
      "execution_count": null,
      "outputs": []
    },
    {
      "cell_type": "code",
      "metadata": {
        "id": "Nzme3jZrEDju",
        "colab_type": "code",
        "colab": {}
      },
      "source": [
        ""
      ],
      "execution_count": null,
      "outputs": []
    }
  ]
}