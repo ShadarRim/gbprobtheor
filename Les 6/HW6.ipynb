{
  "nbformat": 4,
  "nbformat_minor": 0,
  "metadata": {
    "colab": {
      "name": "HW6.ipynb",
      "provenance": []
    },
    "kernelspec": {
      "name": "python3",
      "display_name": "Python 3"
    }
  },
  "cells": [
    {
      "cell_type": "markdown",
      "metadata": {
        "id": "Q9UtHQI9kJ82",
        "colab_type": "text"
      },
      "source": [
        "Даны значения величины заработной платы заемщиков банка (salary) и значения их поведенческого кредитного скоринга (scoring):\n",
        "\n",
        "salary = [35, 45, 190, 200, 40, 70, 54, 150, 120, 110]\n",
        "scoring = [401, 574, 874, 919, 459, 739, 653, 902, 746, 832]\n",
        "\n",
        "Используя только встроенные питоновские функции и структуры данных (т.е. без библиотек numpy, pandas и др.) найдите:\n",
        "1. ковариацию (смещённую и несмещённую) этих двух величин,\n",
        "2. коэффициент корреляции Пирсона.\n",
        "\n",
        "Можно затем посчитать те же значения с использованием библиотек, чтобы проверить себя."
      ]
    },
    {
      "cell_type": "code",
      "metadata": {
        "id": "d5BI-wJ8kH1y",
        "colab_type": "code",
        "colab": {}
      },
      "source": [
        "salary = [35, 45, 190, 200, 40, 70, 54, 150, 120, 110]\n",
        "scoring = [401, 574, 874, 919, 459, 739, 653, 902, 746, 832]"
      ],
      "execution_count": 2,
      "outputs": []
    },
    {
      "cell_type": "code",
      "metadata": {
        "id": "3JHQZ418kgUL",
        "colab_type": "code",
        "colab": {}
      },
      "source": [
        "def mean(arr):\n",
        "  sum = 0\n",
        "  for elem in arr:\n",
        "    sum += elem\n",
        "  return sum/len(arr)"
      ],
      "execution_count": 3,
      "outputs": []
    },
    {
      "cell_type": "code",
      "metadata": {
        "id": "my2j6KDbmU8Y",
        "colab_type": "code",
        "colab": {}
      },
      "source": [
        "def std(arr, ddof=0):\n",
        "  ma = mean(arr)\n",
        "  sum = 0\n",
        "  for elem in arr:\n",
        "    sum += (elem-ma)**2\n",
        "  if ddof:\n",
        "    return (sum/(len(arr)-1))**(1/2)\n",
        "  else:\n",
        "    return (sum/len(arr))**(1/2)"
      ],
      "execution_count": 4,
      "outputs": []
    },
    {
      "cell_type": "code",
      "metadata": {
        "id": "hASRo-jmktdZ",
        "colab_type": "code",
        "colab": {}
      },
      "source": [
        "def covar(arr1, arr2, ddof=0):\n",
        "  ma1 = mean(arr1)\n",
        "  ma2 = mean(arr2)\n",
        "  sum = 0\n",
        "  for i in range(len(arr1)):\n",
        "    sum += (arr1[i]-ma1)*(arr2[i]-ma2)\n",
        "  if ddof:\n",
        "    return sum/(len(arr1)-1)\n",
        "  else:\n",
        "    return sum/len(arr1)"
      ],
      "execution_count": 5,
      "outputs": []
    },
    {
      "cell_type": "code",
      "metadata": {
        "id": "s_7YkP-Jmg1l",
        "colab_type": "code",
        "colab": {}
      },
      "source": [
        "def corelP(arr1, arr2):\n",
        "  cov = covar(arr1, arr2, 1)\n",
        "  stda1 = std(arr1, 1)\n",
        "  stda2 = std(arr2, 1)\n",
        "  return cov/(stda1*stda2)"
      ],
      "execution_count": 6,
      "outputs": []
    },
    {
      "cell_type": "code",
      "metadata": {
        "id": "cWXyHpQjm5FF",
        "colab_type": "code",
        "colab": {
          "base_uri": "https://localhost:8080/",
          "height": 136
        },
        "outputId": "c176b2d7-04b5-4a66-fda9-54750395fb05"
      },
      "source": [
        "print('Смещенная оценка: ', covar(salary, scoring))\n",
        "print('Несмещенная оценка: ', covar(salary, scoring, 1))\n",
        "print('Смещенная оценка дисперсии ', std(salary, 1))\n",
        "print('Смещенная оценка дисперсии ', std(scoring, 1))\n",
        "print('Несмещенная оценка дисперсии ', std(salary, 0))\n",
        "print('Несмещенная оценка дисперсии ', std(scoring, 0))\n",
        "print('Пирсон: ', corelP(salary, scoring))\n",
        "r = corelP(salary, scoring)"
      ],
      "execution_count": 7,
      "outputs": [
        {
          "output_type": "stream",
          "text": [
            "Смещенная оценка:  9157.84\n",
            "Несмещенная оценка:  10175.377777777778\n",
            "Смещенная оценка дисперсии  62.31318747531162\n",
            "Смещенная оценка дисперсии  183.99544076477068\n",
            "Несмещенная оценка дисперсии  59.115480206118605\n",
            "Несмещенная оценка дисперсии  174.55340157098058\n",
            "Пирсон:  0.8874900920739162\n"
          ],
          "name": "stdout"
        }
      ]
    },
    {
      "cell_type": "code",
      "metadata": {
        "id": "vRJkeSjZnwJB",
        "colab_type": "code",
        "colab": {
          "base_uri": "https://localhost:8080/",
          "height": 85
        },
        "outputId": "6c7800fb-fd90-4679-a603-fc109538836d"
      },
      "source": [
        "import numpy as np\n",
        "print(np.cov(salary, scoring, ddof=1))\n",
        "print(np.corrcoef(salary, scoring))"
      ],
      "execution_count": 8,
      "outputs": [
        {
          "output_type": "stream",
          "text": [
            "[[ 3882.93333333 10175.37777778]\n",
            " [10175.37777778 33854.32222222]]\n",
            "[[1.         0.88749009]\n",
            " [0.88749009 1.        ]]\n"
          ],
          "name": "stdout"
        }
      ]
    },
    {
      "cell_type": "markdown",
      "metadata": {
        "id": "EfiWcO3uF_W8",
        "colab_type": "text"
      },
      "source": [
        "## Задача 2\n",
        "\n",
        "Проведите тест на значимость коэффициента корреляции Пирсона, найденного в предыдущей задаче. Что для этого нужно знать:\n",
        "* Нулевая гипотеза: реальный коэффициент корреляции равен 0. Альтернативная гипотеза двухсторонняя.\n",
        "* Статистика: `t = r * sqrt(n - 2) / sqrt(1 - r ** 2)`, где `r` - коэффициент корреляции Пирсона, посчитанный по выборке.\n",
        "* В предположении верности нулевой гипотезы эта статистика имеет распределение Стьюдента с параметром `df = n - 2`."
      ]
    },
    {
      "cell_type": "code",
      "metadata": {
        "id": "Ws5A9MolIAfQ",
        "colab_type": "code",
        "colab": {
          "base_uri": "https://localhost:8080/",
          "height": 34
        },
        "outputId": "8eda9840-0b11-460c-85fc-05709fda02ff"
      },
      "source": [
        "t = r*(8)**(1/2)/((1-r**2)**(1/2))\n",
        "t"
      ],
      "execution_count": 11,
      "outputs": [
        {
          "output_type": "execute_result",
          "data": {
            "text/plain": [
              "5.447168150485575"
            ]
          },
          "metadata": {
            "tags": []
          },
          "execution_count": 11
        }
      ]
    },
    {
      "cell_type": "code",
      "metadata": {
        "id": "lN-6YsaRIwpZ",
        "colab_type": "code",
        "colab": {}
      },
      "source": [
        "from scipy import stats"
      ],
      "execution_count": 13,
      "outputs": []
    },
    {
      "cell_type": "code",
      "metadata": {
        "id": "FPgKJoCsIqLI",
        "colab_type": "code",
        "colab": {
          "base_uri": "https://localhost:8080/",
          "height": 34
        },
        "outputId": "9465545b-7e55-4101-b80d-fc8866174382"
      },
      "source": [
        "p_left = stats.t.cdf(t, df=8)\n",
        "p_right = 1 - stats.t.cdf(t, df=8)\n",
        "\n",
        "pvalue = 2 * min(p_left, p_right)\n",
        "\n",
        "print('Уровень значимости: ', pvalue)"
      ],
      "execution_count": 18,
      "outputs": [
        {
          "output_type": "stream",
          "text": [
            "Уровень значимости:  0.0006107546587257318\n"
          ],
          "name": "stdout"
        }
      ]
    },
    {
      "cell_type": "markdown",
      "metadata": {
        "id": "JzYnEx02L19A",
        "colab_type": "text"
      },
      "source": [
        "## Задание 3\n",
        "\n",
        "Измерены значения IQ выборки студентов, обучающихся в местных технических вузах:\n",
        "\n",
        "131, 125, 115, 122, 131, 115, 107, 99, 125, 111\n",
        "\n",
        "Известно, что в генеральной совокупности IQ распределен нормально. Найдите доверительный интервал для математического ожидания с надежностью 0.95."
      ]
    },
    {
      "cell_type": "code",
      "metadata": {
        "id": "ZedMB8mMMmqs",
        "colab_type": "code",
        "colab": {}
      },
      "source": [
        "samples = np.array([131, 125, 115, 122, 131, 115, 107, 99, 125, 111])\n",
        "\n",
        "mean = samples.mean()\n",
        "std = samples.std(ddof=1)"
      ],
      "execution_count": 23,
      "outputs": []
    },
    {
      "cell_type": "code",
      "metadata": {
        "id": "WadZKcXzMv7l",
        "colab_type": "code",
        "colab": {
          "base_uri": "https://localhost:8080/",
          "height": 34
        },
        "outputId": "4a566172-f18a-436a-b0eb-1ee4ac4a1fbd"
      },
      "source": [
        "p = 0.95\n",
        "alpha = 1 - p\n",
        "\n",
        "t1 = stats.t.ppf(alpha / 2, df=9)\n",
        "t2 = stats.t.ppf(1 - alpha / 2, df=9)\n",
        "\n",
        "t1, t2"
      ],
      "execution_count": 20,
      "outputs": [
        {
          "output_type": "execute_result",
          "data": {
            "text/plain": [
              "(-2.2621571627409915, 2.2621571627409915)"
            ]
          },
          "metadata": {
            "tags": []
          },
          "execution_count": 20
        }
      ]
    },
    {
      "cell_type": "code",
      "metadata": {
        "id": "0puTw9-pM5Vl",
        "colab_type": "code",
        "colab": {
          "base_uri": "https://localhost:8080/",
          "height": 34
        },
        "outputId": "450ff9ac-382a-4aa2-9589-6ac111d8c14c"
      },
      "source": [
        "(mean + t1 * std / np.sqrt(9), mean + t2 * std / np.sqrt(9))"
      ],
      "execution_count": 24,
      "outputs": [
        {
          "output_type": "execute_result",
          "data": {
            "text/plain": [
              "(110.1480139537451, 126.05198604625488)"
            ]
          },
          "metadata": {
            "tags": []
          },
          "execution_count": 24
        }
      ]
    }
  ]
}