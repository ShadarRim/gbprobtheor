{
  "nbformat": 4,
  "nbformat_minor": 0,
  "metadata": {
    "colab": {
      "name": "gbprobtheor3.ipynb",
      "provenance": []
    },
    "kernelspec": {
      "name": "python3",
      "display_name": "Python 3"
    }
  },
  "cells": [
    {
      "cell_type": "markdown",
      "metadata": {
        "id": "NGlsU3uNBgnf",
        "colab_type": "text"
      },
      "source": [
        "Задача 1\n",
        "\n",
        "Даны значения зарплат из выборки выпускников:\n",
        "\n",
        "100, 80, 75, 77, 89, 33, 45, 25, 65, 17, 30, 230, 24, 57, 55, 70, 75, 65, 84, 90, 150\n",
        "\n",
        "Используя только встроенные питоновские функции и структуры данных (т.е. без библиотек numpy, pandas и др.) посчитать среднее арифметическое, смещённую и несмещённую оценки дисперсии, среднее квадратичное отклонение для данной выборки.\n",
        "\n",
        "Можно затем посчитать те же значения с использованием библиотек, чтобы проверить себя."
      ]
    },
    {
      "cell_type": "code",
      "metadata": {
        "id": "z-3p2yhnBcIy",
        "colab_type": "code",
        "colab": {}
      },
      "source": [
        "arr = [100, 80, 75, 77, 89, 33, 45, 25, 65, 17, 30, 230, 24, 57, 55, 70, 75, 65, 84, 90, 150]"
      ],
      "execution_count": 1,
      "outputs": []
    },
    {
      "cell_type": "code",
      "metadata": {
        "id": "FyfVMPaDBn8B",
        "colab_type": "code",
        "colab": {}
      },
      "source": [
        "def mymean(arr):\n",
        "  sum = 0\n",
        "  for elem in arr:\n",
        "    sum += elem\n",
        "  return sum/len(arr)"
      ],
      "execution_count": 8,
      "outputs": []
    },
    {
      "cell_type": "code",
      "metadata": {
        "id": "Zk9lDFA2B0od",
        "colab_type": "code",
        "colab": {}
      },
      "source": [
        "def myvar(arr, ddof=0):\n",
        "  mean = mymean(arr)\n",
        "  sum = 0\n",
        "  for elem in arr:\n",
        "    sum += (elem - mean)**2\n",
        "  if ddof==0:\n",
        "    return sum/len(arr)\n",
        "  elif ddof==1:\n",
        "    return sum/(len(arr)-1)"
      ],
      "execution_count": 10,
      "outputs": []
    },
    {
      "cell_type": "code",
      "metadata": {
        "id": "GUeZULyiCasw",
        "colab_type": "code",
        "colab": {}
      },
      "source": [
        "def mystd(arr, ddof=0):\n",
        "  if ddof==0:\n",
        "    return myvar(arr)**(1/2)\n",
        "  elif ddof==1:\n",
        "    return myvar(arr, 1)**(1/2)"
      ],
      "execution_count": 4,
      "outputs": []
    },
    {
      "cell_type": "code",
      "metadata": {
        "id": "5znkLdsPCm-d",
        "colab_type": "code",
        "colab": {
          "base_uri": "https://localhost:8080/",
          "height": 102
        },
        "outputId": "58b71b34-bca3-4baf-a33e-31f5debdbf7e"
      },
      "source": [
        "print(mymean(arr))\n",
        "print(f'Смещенная оценка дисперсии: {myvar(arr)}')\n",
        "print(f'Несмещенная оценка дисперсии: {myvar(arr, 1)}')\n",
        "print(f'Смещенная оценка стандартного отклонения: {mystd(arr)}')\n",
        "print(f'Несмещенная оценка стандартного отклонения: {mystd(arr, 1)}')"
      ],
      "execution_count": 11,
      "outputs": [
        {
          "output_type": "stream",
          "text": [
            "73.14285714285714\n",
            "Смещенная оценка дисперсии: 2135.074829931973\n",
            "Несмещенная оценка дисперсии: 2241.8285714285716\n",
            "Смещенная оценка стандартного отклонения: 46.20686994302874\n",
            "Несмещенная оценка стандартного отклонения: 47.34795213553139\n"
          ],
          "name": "stdout"
        }
      ]
    },
    {
      "cell_type": "code",
      "metadata": {
        "id": "VocvL_RYC9ef",
        "colab_type": "code",
        "colab": {
          "base_uri": "https://localhost:8080/",
          "height": 102
        },
        "outputId": "8b2db338-4448-4eff-e98d-9f3df7fae7d6"
      },
      "source": [
        "import numpy as np\n",
        "nparr = np.array(arr)\n",
        "print(nparr.mean())\n",
        "print(f'Смещенная оценка дисперсии: {nparr.var()}')\n",
        "print(f'Несмещенная оценка дисперсии: {nparr.var(ddof=1)}')\n",
        "print(f'Смещенная оценка стандартного отклонения: {nparr.std()}')\n",
        "print(f'Несмещенная оценка стандартного отклонения: {nparr.std(ddof=1)}')"
      ],
      "execution_count": 7,
      "outputs": [
        {
          "output_type": "stream",
          "text": [
            "73.14285714285714\n",
            "Смещенная оценка дисперсии: 2135.0748299319725\n",
            "Несмещенная оценка дисперсии: 2241.828571428571\n",
            "Смещенная оценка стандартного отклонения: 46.206869943028735\n",
            "Несмещенная оценка стандартного отклонения: 47.347952135531386\n"
          ],
          "name": "stdout"
        }
      ]
    },
    {
      "cell_type": "markdown",
      "metadata": {
        "id": "Kc364mDbD3YQ",
        "colab_type": "text"
      },
      "source": [
        "Задача 2\n",
        "\n",
        "Для выборки из задачи 1 найти (также без использования библиотек):\n",
        "1. медиану, первый и третий квартили, интерквартильное расстояние,\n",
        "2. выборсы в выборке (используя для этого метод как при построении \"усов\" из boxplot).\n",
        "\n",
        "Возможные неоднозначности в вычислении квантилей можно разрешать любым способом."
      ]
    },
    {
      "cell_type": "code",
      "metadata": {
        "id": "3xkwtofTEsSb",
        "colab_type": "code",
        "colab": {}
      },
      "source": [
        "def mymedian(sarr):\n",
        "    return sarr[(len(sarr))//2]"
      ],
      "execution_count": 59,
      "outputs": []
    },
    {
      "cell_type": "code",
      "metadata": {
        "id": "P80KFC2eF_uu",
        "colab_type": "code",
        "colab": {}
      },
      "source": [
        "def myfquant(sarr):\n",
        "    return sarr[(len(sarr))//4]\n"
      ],
      "execution_count": 52,
      "outputs": []
    },
    {
      "cell_type": "code",
      "metadata": {
        "id": "ULcLiVxzIOWD",
        "colab_type": "code",
        "colab": {}
      },
      "source": [
        "def mytquant(sarr):\n",
        "  return sarr[len(sarr) -(len(sarr))//4 - 1]\n"
      ],
      "execution_count": 56,
      "outputs": []
    },
    {
      "cell_type": "code",
      "metadata": {
        "id": "l7dQvf4-EhEB",
        "colab_type": "code",
        "colab": {}
      },
      "source": [
        "sorted_arr = sorted(arr)"
      ],
      "execution_count": 61,
      "outputs": []
    },
    {
      "cell_type": "code",
      "metadata": {
        "id": "Va7JoW3xFphL",
        "colab_type": "code",
        "colab": {
          "base_uri": "https://localhost:8080/",
          "height": 68
        },
        "outputId": "5be65825-a17c-49c2-a576-513349f1a4a3"
      },
      "source": [
        "print(f'Медиана: {mymedian(sorted_arr)}')\n",
        "print(f'Квантиль 25%: {myfquant(sorted_arr)}')\n",
        "print(f'Квантиль 75%: {mytquant(sorted_arr)}')"
      ],
      "execution_count": 62,
      "outputs": [
        {
          "output_type": "stream",
          "text": [
            "Медиана: 70\n",
            "Квантиль 25%: 45\n",
            "Квантиль 75%: 84\n"
          ],
          "name": "stdout"
        }
      ]
    },
    {
      "cell_type": "code",
      "metadata": {
        "id": "3EKxJHIGFtTP",
        "colab_type": "code",
        "colab": {}
      },
      "source": [
        "npsarr = np.array(sorted_arr)"
      ],
      "execution_count": 15,
      "outputs": []
    },
    {
      "cell_type": "code",
      "metadata": {
        "id": "nWjKCNC1Fx5l",
        "colab_type": "code",
        "colab": {
          "base_uri": "https://localhost:8080/",
          "height": 68
        },
        "outputId": "078961e9-23a5-469e-92d4-d6e390019db2"
      },
      "source": [
        "print(f'Медиана: {np.median(npsarr)}')\n",
        "print(f'Квантиль 25%: {np.quantile(npsarr, 0.25)}')\n",
        "print(f'Квантиль 75%: {np.quantile(npsarr, 0.75)}')"
      ],
      "execution_count": 63,
      "outputs": [
        {
          "output_type": "stream",
          "text": [
            "Медиана: 70.0\n",
            "Квантиль 25%: 45.0\n",
            "Квантиль 75%: 84.0\n"
          ],
          "name": "stdout"
        }
      ]
    },
    {
      "cell_type": "markdown",
      "metadata": {
        "id": "-9iPwmx6ZSqu",
        "colab_type": "text"
      },
      "source": [
        "В университет на факультеты A и B поступило равное количество студентов, а на факультет C студентов поступило столько же, сколько на A и B вместе. Вероятность того, что студент факультета A сдаст первую сессию, равна 0.8. Для студента факультета B эта вероятность равна 0.7, а для студента факультета C - 0.9. Студент сдал первую сессию. Какова вероятность, что он учится: a) на факультете A? б) на факультете B? в) на факультете C?"
      ]
    },
    {
      "cell_type": "markdown",
      "metadata": {
        "id": "lu-G2mu-ZW4f",
        "colab_type": "text"
      },
      "source": [
        "P(A) = 0.25\n",
        "P(B) = 0.25\n",
        "P(C) = 0.5\n",
        "P(+|A) = 0.8\n",
        "P(+|B) = 0.7\n",
        "P(+|C) = 0.9\n",
        "\n",
        "P(A|+)= P(+|A)*P(A) / P(+)\n",
        "\n",
        "P(+) = P(+|A)*P(A) + P(+|B)*P(B) + P(+|C)*P(C) = 0.825"
      ]
    },
    {
      "cell_type": "code",
      "metadata": {
        "id": "qPX57phEZSKm",
        "colab_type": "code",
        "colab": {
          "base_uri": "https://localhost:8080/",
          "height": 34
        },
        "outputId": "690846e0-9d8d-4b4f-f9d9-113f45aa7297"
      },
      "source": [
        "Pplus = 0.8*0.25+0.7*0.25+0.9*.5\n",
        "Pplus"
      ],
      "execution_count": 65,
      "outputs": [
        {
          "output_type": "execute_result",
          "data": {
            "text/plain": [
              "0.825"
            ]
          },
          "metadata": {
            "tags": []
          },
          "execution_count": 65
        }
      ]
    },
    {
      "cell_type": "code",
      "metadata": {
        "id": "RcYkkqIUgY5R",
        "colab_type": "code",
        "colab": {
          "base_uri": "https://localhost:8080/",
          "height": 34
        },
        "outputId": "fb91e9eb-fcc8-47a9-8542-7150c958e8a6"
      },
      "source": [
        "Paplus = 0.8*0.25/0.825\n",
        "Paplus"
      ],
      "execution_count": 67,
      "outputs": [
        {
          "output_type": "execute_result",
          "data": {
            "text/plain": [
              "0.24242424242424246"
            ]
          },
          "metadata": {
            "tags": []
          },
          "execution_count": 67
        }
      ]
    },
    {
      "cell_type": "code",
      "metadata": {
        "id": "n4bSyM90gfPY",
        "colab_type": "code",
        "colab": {
          "base_uri": "https://localhost:8080/",
          "height": 34
        },
        "outputId": "412290ca-43b5-445d-b6d9-1932822c9061"
      },
      "source": [
        "Pbplus = 0.7*0.25/0.825\n",
        "Pbplus"
      ],
      "execution_count": 68,
      "outputs": [
        {
          "output_type": "execute_result",
          "data": {
            "text/plain": [
              "0.21212121212121213"
            ]
          },
          "metadata": {
            "tags": []
          },
          "execution_count": 68
        }
      ]
    },
    {
      "cell_type": "code",
      "metadata": {
        "id": "5OWrpxdBgfZE",
        "colab_type": "code",
        "colab": {
          "base_uri": "https://localhost:8080/",
          "height": 34
        },
        "outputId": "efc9fd3b-da22-4619-da8c-596ca71d25ec"
      },
      "source": [
        "Pcplus = 0.9*0.5/0.825\n",
        "Pcplus"
      ],
      "execution_count": 69,
      "outputs": [
        {
          "output_type": "execute_result",
          "data": {
            "text/plain": [
              "0.5454545454545455"
            ]
          },
          "metadata": {
            "tags": []
          },
          "execution_count": 69
        }
      ]
    }
  ]
}