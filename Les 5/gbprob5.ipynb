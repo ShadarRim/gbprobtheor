{
  "nbformat": 4,
  "nbformat_minor": 0,
  "metadata": {
    "colab": {
      "name": "gbprob5.ipynb",
      "provenance": []
    },
    "kernelspec": {
      "name": "python3",
      "display_name": "Python 3"
    }
  },
  "cells": [
    {
      "cell_type": "code",
      "metadata": {
        "id": "Sq96keaFUfyc",
        "colab_type": "code",
        "colab": {}
      },
      "source": [
        "from scipy import stats"
      ],
      "execution_count": 1,
      "outputs": []
    },
    {
      "cell_type": "code",
      "metadata": {
        "id": "19_16T90VX-D",
        "colab_type": "code",
        "colab": {}
      },
      "source": [
        "import numpy as np"
      ],
      "execution_count": 4,
      "outputs": []
    },
    {
      "cell_type": "markdown",
      "metadata": {
        "id": "38WMtv0PUps0",
        "colab_type": "text"
      },
      "source": [
        "Известно, что генеральная совокупность распределена нормально с известным средним квадратическим отклонением 16. Найти доверительный интервал для оценки математического ожидания mu с надёжностью 0.95, если выборочное среднее равно 80, а объём равен 256."
      ]
    },
    {
      "cell_type": "code",
      "metadata": {
        "id": "s8jyLUTSU7zc",
        "colab_type": "code",
        "colab": {
          "base_uri": "https://localhost:8080/",
          "height": 34
        },
        "outputId": "e3d2f399-4317-4cee-a96e-dc29f9e1fa93"
      },
      "source": [
        "p = 0.95\n",
        "a = 1-p\n",
        "t1 = stats.norm.ppf(a / 2)\n",
        "t2 = stats.norm.ppf(1 - a / 2)\n",
        "\n",
        "t1, t2"
      ],
      "execution_count": 3,
      "outputs": [
        {
          "output_type": "execute_result",
          "data": {
            "text/plain": [
              "(-1.959963984540054, 1.959963984540054)"
            ]
          },
          "metadata": {
            "tags": []
          },
          "execution_count": 3
        }
      ]
    },
    {
      "cell_type": "code",
      "metadata": {
        "id": "XEHYckgEVS5n",
        "colab_type": "code",
        "colab": {
          "base_uri": "https://localhost:8080/",
          "height": 34
        },
        "outputId": "e28f0bb2-4648-49c4-c26a-c3472c3e7172"
      },
      "source": [
        "(80 + t1 * 16 / np.sqrt(256),  80+ t2 * 16 / np.sqrt(256))"
      ],
      "execution_count": 5,
      "outputs": [
        {
          "output_type": "execute_result",
          "data": {
            "text/plain": [
              "(78.04003601545995, 81.95996398454005)"
            ]
          },
          "metadata": {
            "tags": []
          },
          "execution_count": 5
        }
      ]
    },
    {
      "cell_type": "markdown",
      "metadata": {
        "id": "ROjEQpvLVpVr",
        "colab_type": "text"
      },
      "source": [
        "Продавец утверждает, что средний вес пачки печенья составляет 200 г. Из партии извлечена выборка из 10 пачек. Вес каждой пачки составляет:\n",
        "\n",
        "202, 203, 199, 197, 195, 201, 200, 204, 194, 190\n",
        "\n",
        "Известно, что их веса распределены нормально.\n",
        "1. Верно ли утверждение продавца, если учитывать, что уровень значимости равен 1%?\n",
        "2. Найдите P-значение для данного теста."
      ]
    },
    {
      "cell_type": "code",
      "metadata": {
        "id": "yqDPxNs9Vota",
        "colab_type": "code",
        "colab": {}
      },
      "source": [
        "arr = np.array([202, 203, 199, 197, 195, 201, 200, 204, 194, 190])\n",
        "alpha = 0.01"
      ],
      "execution_count": 19,
      "outputs": []
    },
    {
      "cell_type": "code",
      "metadata": {
        "id": "wcZ2HmC-WG0A",
        "colab_type": "code",
        "colab": {}
      },
      "source": [
        "def statistic(samples: np.ndarray) -> float:\n",
        "    return (samples.mean() - 200) / (samples.std(ddof=1) / np.sqrt(samples.shape[0]))"
      ],
      "execution_count": 14,
      "outputs": []
    },
    {
      "cell_type": "code",
      "metadata": {
        "id": "umxaq8p1V4Cm",
        "colab_type": "code",
        "colab": {
          "base_uri": "https://localhost:8080/",
          "height": 34
        },
        "outputId": "2d749e67-5e04-4814-c756-16e8c53a15f4"
      },
      "source": [
        "t1 = stats.t.ppf(alpha / 2, df=len(arr) - 1)\n",
        "t2 = stats.t.ppf(1 - alpha / 2, df=len(arr) - 1)\n",
        "\n",
        "t1, t2"
      ],
      "execution_count": 20,
      "outputs": [
        {
          "output_type": "execute_result",
          "data": {
            "text/plain": [
              "(-3.24983554401537, 3.2498355440153697)"
            ]
          },
          "metadata": {
            "tags": []
          },
          "execution_count": 20
        }
      ]
    },
    {
      "cell_type": "code",
      "metadata": {
        "id": "XwAhmmzQWLTv",
        "colab_type": "code",
        "colab": {
          "base_uri": "https://localhost:8080/",
          "height": 34
        },
        "outputId": "448a0223-5e6a-4a75-fee9-bdddb1b0b77d"
      },
      "source": [
        "statistic(arr)\n",
        "#верно"
      ],
      "execution_count": 15,
      "outputs": [
        {
          "output_type": "execute_result",
          "data": {
            "text/plain": [
              "-1.0651074037450896"
            ]
          },
          "metadata": {
            "tags": []
          },
          "execution_count": 15
        }
      ]
    },
    {
      "cell_type": "code",
      "metadata": {
        "id": "6iRHDDaaXql4",
        "colab_type": "code",
        "colab": {
          "base_uri": "https://localhost:8080/",
          "height": 34
        },
        "outputId": "b2faa15c-2d27-493d-d2be-532eb06571c0"
      },
      "source": [
        "p_left = stats.t.cdf(statistic(arr), df=9)\n",
        "p_right = 1 - stats.t.cdf(statistic(arr), df=9)\n",
        "\n",
        "pvalue = 2 * min(p_left, p_right)\n",
        "\n",
        "pvalue"
      ],
      "execution_count": 16,
      "outputs": [
        {
          "output_type": "execute_result",
          "data": {
            "text/plain": [
              "0.31456660352472854"
            ]
          },
          "metadata": {
            "tags": []
          },
          "execution_count": 16
        }
      ]
    },
    {
      "cell_type": "markdown",
      "metadata": {
        "id": "B3eVwzWSYOcr",
        "colab_type": "text"
      },
      "source": [
        "Дана выборка диаметров подшипников из примера 1 с занятия 5:\n",
        "\n",
        "samples = [0.6603, 0.9466, 0.5968, 1.3792, 1.5481, 0.7515, 1.0681, 1.1134,\n",
        "1.2088, 1.701 , 1.0282, 1.3579, 1.0191, 1.1784, 1.1168, 1.1372,\n",
        "0.7273, 1.3958, 0.8665, 1.5112, 1.161 , 1.0232, 1.0865, 1.02 ]\n",
        "\n",
        "Предполагая, что диаметры подшипников распределены нормально, проверьте гипотезу о том, что дисперсия случайной величины равна 0.0625 при уровне значимости alpha = 0.05. Что для этого нужно знать:\n",
        "1. Альтернативная гипотеза двухсторонняя.\n",
        "2. Статистика для теста: H = (n - 1) * sample_variance / variance, где n - число элементов в выборке, sample_variance - несмещённая оценка дисперсии, variance - утверждаемая нулевой гипотезой дисперсия.\n",
        "3. Эта статистика в предположении верности нулевой гипотезы имеет распределение хи-квадрат с параметром df = n - 1. Её квантили можно найти с помощью функции scipy.stats.chi2.ppf."
      ]
    },
    {
      "cell_type": "code",
      "metadata": {
        "id": "7aSkSyDoYPnv",
        "colab_type": "code",
        "colab": {}
      },
      "source": [
        "samples = np.array([0.6603, 0.9466, 0.5968, 1.3792, 1.5481, 0.7515, 1.0681, 1.1134,\n",
        "1.2088, 1.701 , 1.0282, 1.3579, 1.0191, 1.1784, 1.1168, 1.1372,\n",
        "0.7273, 1.3958, 0.8665, 1.5112, 1.161 , 1.0232, 1.0865, 1.02 ])\n",
        "\n",
        "a = 0.05\n",
        "d = 0.0625"
      ],
      "execution_count": 27,
      "outputs": []
    },
    {
      "cell_type": "code",
      "metadata": {
        "id": "NumoMuakYa_e",
        "colab_type": "code",
        "colab": {
          "base_uri": "https://localhost:8080/",
          "height": 34
        },
        "outputId": "c6e882e6-9ade-4900-cdcb-21a5569a11c7"
      },
      "source": [
        "t1 = stats.chi2.ppf(a / 2, df = len(samples)-1)\n",
        "t2 = stats.chi2.ppf(1 - a / 2, df = len(samples)-1) \n",
        "\n",
        "t1,t2"
      ],
      "execution_count": 29,
      "outputs": [
        {
          "output_type": "execute_result",
          "data": {
            "text/plain": [
              "(11.688551922452438, 38.0756272503558)"
            ]
          },
          "metadata": {
            "tags": []
          },
          "execution_count": 29
        }
      ]
    },
    {
      "cell_type": "code",
      "metadata": {
        "id": "ej6ZeOm2ZhqK",
        "colab_type": "code",
        "colab": {
          "base_uri": "https://localhost:8080/",
          "height": 34
        },
        "outputId": "3477e495-7584-4963-b59a-b25cdda93b2e"
      },
      "source": [
        "(len(samples)-1 * samples.var(ddof=1)/d)\n",
        "\n",
        "#гипотеза попадает в интервал и принимается"
      ],
      "execution_count": 30,
      "outputs": [
        {
          "output_type": "execute_result",
          "data": {
            "text/plain": [
              "22.751280793333333"
            ]
          },
          "metadata": {
            "tags": []
          },
          "execution_count": 30
        }
      ]
    }
  ]
}