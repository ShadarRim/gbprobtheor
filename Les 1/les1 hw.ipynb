{
 "cells": [
  {
   "cell_type": "code",
   "execution_count": 1,
   "metadata": {},
   "outputs": [],
   "source": [
    "import numpy as np"
   ]
  },
  {
   "cell_type": "code",
   "execution_count": 2,
   "metadata": {},
   "outputs": [],
   "source": [
    "def permutations(n: int) -> int:\n",
    "    \"\"\"Число перестановок.\n",
    "    \"\"\"\n",
    "    \n",
    "    return np.math.factorial(n)"
   ]
  },
  {
   "cell_type": "code",
   "execution_count": 3,
   "metadata": {},
   "outputs": [],
   "source": [
    "def combinations(n: int, k: int) -> int:\n",
    "    \"\"\"Число сочетаний.\n",
    "    \"\"\"\n",
    "    \n",
    "    return np.math.factorial(n) // (np.math.factorial(k) * np.math.factorial(n - k))"
   ]
  },
  {
   "cell_type": "code",
   "execution_count": 4,
   "metadata": {},
   "outputs": [],
   "source": [
    "def arrangements(n: int, k: int) -> int:\n",
    "    \"\"\"Число размещений.\n",
    "    \"\"\"\n",
    "    \n",
    "    return np.math.factorial(n) // np.math.factorial(n - k)"
   ]
  },
  {
   "cell_type": "markdown",
   "metadata": {},
   "source": [
    "**Задача 1**\n",
    "\n",
    "Из колоды в 52 карты вынимают случайным образом 4 карты. Найти число исходов, соответствующих тому, что был вытянут хотя бы один туз."
   ]
  },
  {
   "cell_type": "code",
   "execution_count": 9,
   "metadata": {},
   "outputs": [
    {
     "name": "stdout",
     "output_type": "stream",
     "text": [
      "76145\n"
     ]
    }
   ],
   "source": [
    "a = combinations(4, 1) * combinations(48, 3) + combinations(4, 2) * combinations(48, 2) + combinations(4, 3) * combinations(48, 1) + combinations(4, 4) * combinations(48, 0)\n",
    "# combinations(4, 4) * combinations(48, 0) == 1, если что\n",
    "# 1+3, 2+2, 3+1, 1\n",
    "\n",
    "print(a)"
   ]
  },
  {
   "cell_type": "markdown",
   "metadata": {},
   "source": [
    "Задача 2\n",
    "\n",
    "Семь человек рассаживаются наудачу на скамейке. Какова вероятность того, что рядом будут сидеть: а) два определённых человека? б) три определённых человека?\n"
   ]
  },
  {
   "cell_type": "code",
   "execution_count": 17,
   "metadata": {},
   "outputs": [
    {
     "data": {
      "text/plain": [
       "0.2857142857142857"
      ]
     },
     "execution_count": 17,
     "metadata": {},
     "output_type": "execute_result"
    }
   ],
   "source": [
    "6*2*permutations(5)/permutations(7)\n",
    "# 6 ячеек для рассадки двух \"пары\" - умножить на порядок в паре (два варианта всего) - делить на все возможные варианты рассадки"
   ]
  },
  {
   "cell_type": "code",
   "execution_count": 18,
   "metadata": {},
   "outputs": [
    {
     "data": {
      "text/plain": [
       "0.14285714285714285"
      ]
     },
     "execution_count": 18,
     "metadata": {},
     "output_type": "execute_result"
    }
   ],
   "source": [
    "5*6*permutations(4)/permutations(7)\n",
    "# 5 ячеек для рассадки двух \"тройки\" - умножить на порядок в тройк (3!) - делить на все возможные варианты рассадки"
   ]
  },
  {
   "cell_type": "markdown",
   "metadata": {},
   "source": [
    "Задача 3\n",
    "\n",
    "Из 60 вопросов, входящих в экзаменационные билеты, студент знает 50. Какова вероятность того, что среди трёх наугад выбранных вопросов студент знает: а) все? б) два?"
   ]
  },
  {
   "cell_type": "code",
   "execution_count": 21,
   "metadata": {},
   "outputs": [
    {
     "data": {
      "text/plain": [
       "0.5727644652250146"
      ]
     },
     "execution_count": 21,
     "metadata": {},
     "output_type": "execute_result"
    }
   ],
   "source": [
    "combinations(50, 3) / combinations (60, 3)\n",
    "# 3 из 50 на 3 из всей массы"
   ]
  },
  {
   "cell_type": "code",
   "execution_count": 25,
   "metadata": {},
   "outputs": [
    {
     "data": {
      "text/plain": [
       "0.9307422559906487"
      ]
     },
     "execution_count": 25,
     "metadata": {},
     "output_type": "execute_result"
    }
   ],
   "source": [
    "(combinations(50, 3) + combinations(50,2)*combinations(10,1) ) / combinations (60, 3)\n",
    "#два знаешь и тогда, когда знаешь три и когда знаешь два, но один не знаешь"
   ]
  },
  {
   "cell_type": "markdown",
   "metadata": {},
   "source": [
    "Задача 4\n",
    "\n",
    "Бросается игральная кость. Пусть событие A - появление чётного числа, событие B - появление числа больше трёх. Являются ли эти события независимыми?"
   ]
  },
  {
   "cell_type": "code",
   "execution_count": null,
   "metadata": {},
   "outputs": [],
   "source": [
    "p_A = 1/2 #(2, 4, 6)\n",
    "p_B = 1/2 #(4, 5, 6)\n",
    "p_A_B = 1/3 #(4 и 6 из набора)\n",
    "\n",
    "p_A_cond_B = 1/3 / 1/2\n",
    "\n",
    "#A и B зависимы"
   ]
  },
  {
   "cell_type": "markdown",
   "metadata": {},
   "source": [
    "Задача 5\n",
    "\n",
    "Допустим, имеется некоторая очень редкая болезнь (поражает 0.1% населения). Вы приходите к врачу, вам делают тест на эту болезнь, и тест оказывается положительным. Врач говорит вам, что этот тест верно выявляет 99% больных этой болезнью и всего лишь в 1% случаев даёт ложный положительный ответ.\n",
    "\n",
    "Вопрос: какова вероятность, что вы действительно больны ей?\n",
    "\n",
    "Подсказка: вновь используйте формулу Байеса с раскрытием знаменателя с помощью формулы полной вероятности."
   ]
  },
  {
   "cell_type": "code",
   "execution_count": 26,
   "metadata": {},
   "outputs": [
    {
     "data": {
      "text/plain": [
       "0.09016393442622951"
      ]
     },
     "execution_count": 26,
     "metadata": {},
     "output_type": "execute_result"
    }
   ],
   "source": [
    "# p(болен|выявлена) = p(выявлена|болен)*p(болен) / ( p(выявлена|болен)*p(болен) +  p(выявлена|здоров)*p(здоров) )\n",
    "0.99*0.001/(0.99*0.001+0.01*0.999)"
   ]
  },
  {
   "cell_type": "code",
   "execution_count": null,
   "metadata": {},
   "outputs": [],
   "source": []
  }
 ],
 "metadata": {
  "kernelspec": {
   "display_name": "Python 3",
   "language": "python",
   "name": "python3"
  },
  "language_info": {
   "codemirror_mode": {
    "name": "ipython",
    "version": 3
   },
   "file_extension": ".py",
   "mimetype": "text/x-python",
   "name": "python",
   "nbconvert_exporter": "python",
   "pygments_lexer": "ipython3",
   "version": "3.7.4"
  }
 },
 "nbformat": 4,
 "nbformat_minor": 2
}
